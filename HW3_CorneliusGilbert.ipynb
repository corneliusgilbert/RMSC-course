{
 "cells": [
  {
   "cell_type": "code",
   "execution_count": 1,
   "id": "9f4ee21a",
   "metadata": {},
   "outputs": [],
   "source": [
    "import numpy as np\n",
    "import matplotlib.pyplot as plt\n",
    "import math\n",
    "from scipy.optimize import bisect"
   ]
  },
  {
   "cell_type": "code",
   "execution_count": 2,
   "id": "0e208c7c",
   "metadata": {},
   "outputs": [
    {
     "name": "stdout",
     "output_type": "stream",
     "text": [
      "Now, we calculate f(6.1) using actual value and taylor approximation\n",
      "Actual Value = 0.9832684384425845\n",
      "Taylor Approximation: \n",
      "number of terms=  1  | Approximation value=  0.960170286650366  | Difference with the actual value=  -0.023098151792218524\n",
      "number of terms=  2  | Approximation value=  0.9881113563838385  | Difference with the actual value=  0.004842917941254021\n",
      "number of terms=  3  | Approximation value=  0.9833105022251788  | Difference with the actual value=  4.206378259430377e-05\n",
      "number of terms=  4  | Approximation value=  0.9832179836397934  | Difference with the actual value=  -5.045480279108894e-05\n",
      "number of terms=  5  | Approximation value=  1.399551617874227  | Difference with the actual value=  0.4162831794316426\n",
      "number of terms=  6  | Approximation value=  -2681.639424559587  | Difference with the actual value=  -2682.62269299803\n"
     ]
    }
   ],
   "source": [
    "def original_function(x):\n",
    "    return math.cos(x)\n",
    "\n",
    "\n",
    "def taylor_function(f, x, delta_x, n):\n",
    "    dx = 1e-5\n",
    "    result = 0\n",
    "    for i in range(n):\n",
    "        deriv = 0\n",
    "        #using numerical differentiation (Grünwald–Letnikov derivative)\n",
    "        for j in range (i+1):\n",
    "            deriv = deriv + (-1)**(j)*math.comb(i,j)*f(x+(i-j)*dx)\n",
    "        deriv = deriv / (dx)**i\n",
    "        \n",
    "        result = result + deriv*delta_x**i/math.factorial(i)\n",
    "    return result\n",
    "\n",
    "#simulate using 6 terms\n",
    "print(\"Now, we calculate f(6.1) using actual value and taylor approximation\")\n",
    "print(\"Actual Value =\", original_function(6.1))\n",
    "print(\"Taylor Approximation: \")\n",
    "for n in range(1,7):\n",
    "    approx = taylor_function(original_function, 6, 0.1, n)\n",
    "    print (\"number of terms= \" , n, \" | Approximation value= \", approx, \" | Difference with the actual value= \", approx - original_function(6.1))\n"
   ]
  },
  {
   "cell_type": "code",
   "execution_count": 3,
   "id": "e6e1e3fd",
   "metadata": {},
   "outputs": [
    {
     "data": {
      "image/png": "[encoded data removed]",
      "text/plain": [
       "<Figure size 432x288 with 1 Axes>"
      ]
     },
     "metadata": {
      "needs_background": "light"
     },
     "output_type": "display_data"
    }
   ],
   "source": [
    "#Define the following terminology\n",
    "#T: Maturity\n",
    "#y: Yield to Maturity (YTM)\n",
    "#f: Face value\n",
    "#r: Coupon rate\n",
    "\n",
    "def price(T,y,f,r):\n",
    "    time = np.arange(1,T+1)\n",
    "    coupon_pv = f*r/(1+y)**time\n",
    "    face_pv = f/(1+y)**T\n",
    "    price =  coupon_pv.sum() + face_pv\n",
    "    return price\n",
    "\n",
    "def dollar_duration(T,y,f,r):\n",
    "    time = np.arange(1,T+1)\n",
    "    #take care of the coupon first\n",
    "    d1 = -time*r*f/(1+y)**(time+1)\n",
    "    #take care of the face value\n",
    "    d2 = -T*f/(1+y)**(T+1)\n",
    "    total = d1.sum()+d2\n",
    "    return total\n",
    "\n",
    "# Let we have a bond that offer 6% coupon rate, 4% YTM, 10 years maturity, and $100 face value\n",
    "T = 10\n",
    "y = 0.04\n",
    "f = 100\n",
    "r = 0.06\n",
    "\n",
    "x_axis = np.linspace(0,0.08,8000)\n",
    "d_duration = dollar_duration(T,y,f,r)\n",
    "bond_price_base = price (T,y,f,r)\n",
    "\n",
    "actual_bond_price = []\n",
    "approximate_bond_price = []\n",
    "\n",
    "for y_change in x_axis:\n",
    "    actual_bond_price.append(price(T,y_change,f,r))\n",
    "    approximate_bond_price.append((bond_price_base + d_duration*(y_change-y)))\n",
    "    \n",
    "plt.plot(x_axis,actual_bond_price,color =\"red\", label =\"Actual Bond Price\")\n",
    "plt.plot(x_axis,approximate_bond_price, color =\"blue\", label = \"Approximate Bond Price\")\n",
    "plt.legend()\n",
    "plt.xlabel(\"yield change\")\n",
    "plt.ylabel(\"bond price\")\n",
    "plt.show()"
   ]
  },
  {
   "cell_type": "code",
   "execution_count": 4,
   "id": "a372e79c",
   "metadata": {},
   "outputs": [
    {
     "name": "stdout",
     "output_type": "stream",
     "text": [
      "The yield to maturity (YTM) using the bisection method is  0.04963546685939946\n"
     ]
    }
   ],
   "source": [
    "#using bisection method\n",
    "#let p = 1000\n",
    "\n",
    "zero_rate = np.array((0.04, 0.0425, 0.0475, 0.049, 0.05))\n",
    "maturity = np.array((1,2,3,4,5))\n",
    "\n",
    "#let the annual coupon is 5%\n",
    "cf = np.array([50,50,50,50,1050])\n",
    "\n",
    "def bond_price (cf,rate,time):\n",
    "    x = (cf/((1+rate)**time)).sum()\n",
    "    return x\n",
    "\n",
    "bond_price1 = bond_price(cf,zero_rate,maturity)\n",
    "\n",
    "#we use price function declared in question 1b\n",
    "def function(y):\n",
    "    return (bond_price1 - price(5,y,1000,0.05))\n",
    "\n",
    "yieldToMaturity = bisect(function, 0, 1)\n",
    "print(\"The yield to maturity (YTM) using the bisection method is \", yieldToMaturity)"
   ]
  },
  {
   "cell_type": "code",
   "execution_count": 5,
   "id": "4165cd1c",
   "metadata": {},
   "outputs": [
    {
     "name": "stdout",
     "output_type": "stream",
     "text": [
      "The new bond price is  990.8188797667353\n",
      "The new yield to maturity (YTM) using the bisection method is  0.05213312721934926\n",
      "\n",
      "\n",
      "The actual unrealised PnL (percentage) is  -0.01074397594211746 \n",
      "\n",
      "Using dollar duration, we have the following result:\n",
      "The approximate new bond price is  990.734297937822\n",
      "The approximate unrealised PnL (percentage) is  -0.010828424356945837\n"
     ]
    }
   ],
   "source": [
    "#Since there is a 0.25% percent in each coupon increase, we have the new bond price as follows:\n",
    "\n",
    "bond_price2 = bond_price(cf,zero_rate+0.0025,maturity)\n",
    "def function2(y):\n",
    "    return (bond_price2 - price(5,y,1000,0.05))\n",
    "yieldToMaturiry2 = bisect(function2, 0, 1)\n",
    "pnl = (bond_price2-bond_price1)/bond_price1\n",
    "\n",
    "#calculate the approximate unrealised profit/loss using the dollar duration\n",
    "approx_price_change = 0.0025 * dollar_duration(5,yieldToMaturity,1000,0.05)\n",
    "approx_price = approx_price_change + bond_price1                                   \n",
    "approx_pnl = (approx_price - bond_price1)/bond_price1\n",
    "\n",
    "print(\"The new bond price is \", bond_price2)\n",
    "print(\"The new yield to maturity (YTM) using the bisection method is \", yieldToMaturiry2)\n",
    "\n",
    "print(\"\\n\")\n",
    "print(\"The actual unrealised PnL (percentage) is \",pnl,\"\\n\")\n",
    "print(\"Using dollar duration, we have the following result:\")\n",
    "print(\"The approximate new bond price is \",approx_price)\n",
    "print(\"The approximate unrealised PnL (percentage) is \",approx_pnl)"
   ]
  }
 ],
 "metadata": {
  "kernelspec": {
   "display_name": "Python 3",
   "language": "python",
   "name": "python3"
  },
  "language_info": {
   "codemirror_mode": {
    "name": "ipython",
    "version": 3
   },
   "file_extension": ".py",
   "mimetype": "text/x-python",
   "name": "python",
   "nbconvert_exporter": "python",
   "pygments_lexer": "ipython3",
   "version": "3.8.8"
  }
 },
 "nbformat": 4,
 "nbformat_minor": 5
}
